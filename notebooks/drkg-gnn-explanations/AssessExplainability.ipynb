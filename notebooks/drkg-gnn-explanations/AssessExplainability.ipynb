{
 "cells": [
  {
   "cell_type": "markdown",
   "id": "80d394e1-87c1-4ee9-a182-9d056b679730",
   "metadata": {},
   "source": [
    "**------------------------------------------------------------------------------------------------------------------------------------------------------**\n",
    "\n",
    "**Input: Prediction(s) obtained from a trained GNN - GraphSAGE, GCN and GAT**\n",
    "\n",
    "**Purpose: Return a small subgraph of the input graph that contains the most important nodes and edges that were most influential for the prediction(s) using Integrated Gradients and Saliency**\n",
    "\n",
    "**------------------------------------------------------------------------------------------------------------------------------------------------------**"
   ]
  },
  {
   "cell_type": "markdown",
   "id": "a49067ae-adaa-41d3-8a4c-f88a8d5d89c6",
   "metadata": {},
   "source": [
    "# Librairies"
   ]
  },
  {
   "cell_type": "code",
   "execution_count": 71,
   "id": "eb971bee-bed7-404b-aeac-7278245b8538",
   "metadata": {},
   "outputs": [],
   "source": [
    "import pandas as pd\n",
    "import numpy as np\n",
    "import matplotlib.pyplot as plt\n",
    "import networkx as nx\n",
    "import json\n",
    "\n",
    "import os\n",
    "import re\n",
    "import random\n",
    "import itertools\n",
    "import import_ipynb\n",
    "\n",
    "import torch\n",
    "import torch.nn as nn\n",
    "from torch.nn import Linear\n",
    "import torch.nn.functional as F\n",
    "\n",
    "import dgl\n",
    "import dgl.nn as dglnn\n",
    "import dgl.function as fn\n",
    "from dgl.nn import HeteroGraphConv, SAGEConv, GraphConv, GATConv\n",
    "from dgl.data.utils import save_graphs, load_graphs\n",
    "\n",
    "from torch_geometric.explain import characterization_score\n",
    "\n",
    "from captum.attr import Saliency, IntegratedGradients\n",
    "\n",
    "from sklearn.metrics import roc_auc_score, precision_score, recall_score, f1_score\n",
    "\n",
    "from functools import partial\n",
    "\n",
    "import warnings\n",
    "warnings.simplefilter(\"ignore\")"
   ]
  },
  {
   "cell_type": "markdown",
   "id": "28f5bd05-2ec7-4d2f-9da2-7ed0a61e5e88",
   "metadata": {},
   "source": [
    "**Define GNN variant**"
   ]
  },
  {
   "cell_type": "code",
   "execution_count": 89,
   "id": "e4a99f99-d507-46e9-ae91-2c71e05e8818",
   "metadata": {},
   "outputs": [],
   "source": [
    "gnn_variant = 'GAT'\n",
    "# gnn_variant = 'GraphSAGE'\n",
    "# gnn_variant = 'GCN'"
   ]
  },
  {
   "cell_type": "markdown",
   "id": "3ba15b3e-8de9-4e0f-b399-45bba81d12d2",
   "metadata": {},
   "source": [
    "**Define etype: we only want to predict one edge type**"
   ]
  },
  {
   "cell_type": "code",
   "execution_count": 90,
   "id": "f211d965-3694-4b79-a3c1-10c5af2a66dd",
   "metadata": {},
   "outputs": [],
   "source": [
    "etype = ('Compound', 'DRUGBANK::treats::Compound:Disease', 'Disease')"
   ]
  },
  {
   "cell_type": "markdown",
   "id": "618ee1c6-b762-4161-a391-607a2faddc57",
   "metadata": {},
   "source": [
    "**Get a trained GNN**"
   ]
  },
  {
   "cell_type": "code",
   "execution_count": 91,
   "id": "a3139fc8-bbd0-47c0-8abf-c41c04602e1d",
   "metadata": {},
   "outputs": [],
   "source": [
    "from TrainGNN import Net, HeteroDotProductPredictor, construct_negative_graph"
   ]
  },
  {
   "cell_type": "code",
   "execution_count": 92,
   "id": "7da5cb1f-f8c1-491a-81a9-5c1b3746014a",
   "metadata": {},
   "outputs": [],
   "source": [
    "model = torch.load(f'GNNModels/{gnn_variant}')"
   ]
  },
  {
   "cell_type": "markdown",
   "id": "4fb17319-618e-484e-ac8a-e9363224be4a",
   "metadata": {},
   "source": [
    "**Get DGL graphs**"
   ]
  },
  {
   "cell_type": "code",
   "execution_count": 93,
   "id": "593e2af6-dd2e-4c34-be34-b6d9e2360b7c",
   "metadata": {},
   "outputs": [],
   "source": [
    "g_list = load_graphs('Input/AlzheimerGraph')"
   ]
  },
  {
   "cell_type": "code",
   "execution_count": 94,
   "id": "04398eca-feaa-4f57-abd8-5d390466051f",
   "metadata": {},
   "outputs": [],
   "source": [
    "g = g_list[0][0]\n",
    "g_neg = g_list[0][1]"
   ]
  },
  {
   "cell_type": "markdown",
   "id": "4adc931b-b728-4f6b-bb4e-e41cb800335c",
   "metadata": {},
   "source": [
    "**Get entity dictionary**"
   ]
  },
  {
   "cell_type": "code",
   "execution_count": 95,
   "id": "f1a1c3fa-9c7a-4ce2-bd14-319a22714554",
   "metadata": {},
   "outputs": [],
   "source": [
    "with open(\"Input/entity_dictionary_alzheimer.json\") as file:\n",
    "    entity_dictionary = json.load(file)"
   ]
  },
  {
   "cell_type": "markdown",
   "id": "4beb7885-a8ab-486f-a9d0-002a0b3d9ee8",
   "metadata": {},
   "source": [
    "# 2) Get Explainability"
   ]
  },
  {
   "cell_type": "markdown",
   "id": "e1291fe8-6425-429a-af4f-b5a3eafb8b9f",
   "metadata": {},
   "source": [
    "**Forward function that returns a single tensor**"
   ]
  },
  {
   "cell_type": "code",
   "execution_count": 79,
   "id": "f379cba8-1db6-4cbe-b8cc-343ae0a8c9bd",
   "metadata": {},
   "outputs": [],
   "source": [
    "def model_forward(x, ntype, pos_g, neg_g, input_features, etype, idx):\n",
    "    input_features = input_features.copy()\n",
    "    input_features[ntype] = x\n",
    "    return model(pos_g, neg_g, input_features, etype)[0][idx].reshape([1, 1])"
   ]
  },
  {
   "cell_type": "markdown",
   "id": "0ed300c6-2144-483a-b497-ad4b6906f373",
   "metadata": {},
   "source": [
    "**Forward function with edge weights that returns a single tensor**"
   ]
  },
  {
   "cell_type": "code",
   "execution_count": 80,
   "id": "1357de99-0cb9-4b3b-980f-89e51c30c956",
   "metadata": {},
   "outputs": [],
   "source": [
    "def model_forward_edge_weight(x, imp_etype, pos_g, neg_g, input_features, etype, edge_weight, idx):\n",
    "    edge_weight = edge_weight.copy()\n",
    "    edge_weight[imp_etype] = x\n",
    "    return model(pos_g, neg_g, input_features, etype, edge_weight)[0][idx].reshape([1, 1])"
   ]
  },
  {
   "cell_type": "markdown",
   "id": "462017f8-d782-4b5e-bb2c-8ecdbefd1bdd",
   "metadata": {},
   "source": [
    "**Function that scales attributes to [0, 1]**"
   ]
  },
  {
   "cell_type": "code",
   "execution_count": 81,
   "id": "91c21e8e-af2d-48e9-8cdb-cc4c5a3f2bc1",
   "metadata": {},
   "outputs": [],
   "source": [
    "def scale(x):\n",
    "    x = x.abs().sum(dim=1)\n",
    "    x /= x.max()\n",
    "    return x"
   ]
  },
  {
   "cell_type": "markdown",
   "id": "3baa02c5-0e91-4135-b58f-115402e0e7fc",
   "metadata": {},
   "source": [
    "**Function that returns most important nodes**"
   ]
  },
  {
   "cell_type": "code",
   "execution_count": 82,
   "id": "0f71265b-6acf-4453-997c-7582f282509d",
   "metadata": {},
   "outputs": [],
   "source": [
    "def get_attr_node(ntype, etype, input_features, pos_g, neg_g, idx):\n",
    "    x_ntype = input_features[ntype]\n",
    "    \n",
    "    ig = IntegratedGradients(partial(model_forward,\n",
    "                                     ntype=ntype, pos_g=pos_g, neg_g=neg_g, input_features=input_features, \n",
    "                                     etype=etype, idx=idx))\n",
    "    ig_attr_node = ig.attribute(x_ntype, target=0, internal_batch_size=1, n_steps=50)\n",
    "    \n",
    "    saliency = Saliency(partial(model_forward,\n",
    "                                ntype=ntype, pos_g=pos_g, neg_g=neg_g, input_features=input_features, \n",
    "                                etype=etype, idx=idx))\n",
    "    saliency_attr_node = saliency.attribute(x_ntype, target=0)\n",
    "    \n",
    "    return scale(ig_attr_node), scale(saliency_attr_node)"
   ]
  },
  {
   "cell_type": "markdown",
   "id": "437d02d5-c037-4dfc-a0d3-a111824e3b12",
   "metadata": {},
   "source": [
    "**Function that returns most important edges**"
   ]
  },
  {
   "cell_type": "code",
   "execution_count": 83,
   "id": "fea6c7de-e205-4416-9e3b-ea6c99e1ea50",
   "metadata": {},
   "outputs": [],
   "source": [
    "def get_attr_edge(imp_etype, etype, input_features, pos_g, neg_g, edge_weight, idx):\n",
    "    x_etype = edge_weight[imp_etype]\n",
    "\n",
    "    ig = IntegratedGradients(partial(model_forward_edge_weight,\n",
    "                                     imp_etype=imp_etype, pos_g=pos_g, neg_g=neg_g, input_features=input_features, \n",
    "                                     etype=etype, edge_weight=edge_weight, idx=idx))\n",
    "    ig_attr_edge = ig.attribute(x_etype, target=0, internal_batch_size=1, n_steps=50)\n",
    "    \n",
    "    saliency = Saliency(partial(model_forward_edge_weight,\n",
    "                                imp_etype=imp_etype, pos_g=pos_g, neg_g=neg_g, input_features=input_features, \n",
    "                                etype=etype, edge_weight=edge_weight, idx=idx))\n",
    "    saliency_attr_edge = saliency.attribute(x_etype, target=0)\n",
    "    \n",
    "    return ig_attr_edge, saliency_attr_edge"
   ]
  },
  {
   "cell_type": "markdown",
   "id": "28ebdbde-75e4-40e7-b95d-1be0bba05b21",
   "metadata": {},
   "source": [
    "# 3) Use Case: Alzheimer"
   ]
  },
  {
   "cell_type": "markdown",
   "id": "94286b85-4025-4373-aa09-c140f583f33c",
   "metadata": {},
   "source": [
    "**Get single instance graph**"
   ]
  },
  {
   "cell_type": "code",
   "execution_count": 84,
   "id": "1cb64621-6e36-4bd5-9298-698d6963a226",
   "metadata": {},
   "outputs": [],
   "source": [
    "def get_single_instance_graph(idx):\n",
    "    u = g.edges(etype=etype, form='uv')[0][idx]\n",
    "    v = g.edges(etype=etype, form='uv')[1][idx]\n",
    "    \n",
    "    indices2remove = list(np.arange(len(g.edges(etype=etype, form='eid').detach().numpy())))\n",
    "    indices2remove.pop(idx)\n",
    "    \n",
    "    g_single_instance = dgl.remove_edges(g, etype=etype, eids=indices2remove)\n",
    "    g_neg_single_instance = construct_negative_graph(g_single_instance, 5, etype)\n",
    "    return g_single_instance, g_neg_single_instance, u, v"
   ]
  },
  {
   "cell_type": "markdown",
   "id": "f9785658-18b3-4fa9-991c-85aa65b4f944",
   "metadata": {},
   "source": [
    "**Get dictionary having most important nodes and edges**"
   ]
  },
  {
   "cell_type": "code",
   "execution_count": 85,
   "id": "06cbfc39-aa13-4aed-ada6-e556a5b1457c",
   "metadata": {},
   "outputs": [],
   "source": [
    "def get_imp_node_dic(g_single_instance, g_neg_single_instance):    \n",
    "    ig_imp_node_dic = {}\n",
    "    saliency_imp_node_dic = {}\n",
    "    \n",
    "    for ntype in g_single_instance.ntypes:\n",
    "        try:\n",
    "            ig_attr_node, saliency_attr_node = get_attr_node(ntype, etype, g_single_instance.ndata['h'], g_single_instance, g_neg_single_instance, 0)\n",
    "            \n",
    "            # Integrated Gradients\n",
    "            ig_imp_node_list = []\n",
    "            for i in range(len(ig_attr_node)):\n",
    "                if ig_attr_node[i] > 0.5:\n",
    "                    ig_imp_node_list.append(i)\n",
    "            if len(ig_imp_node_list) > 0:\n",
    "                ig_imp_node_dic[ntype] = ig_imp_node_list\n",
    "            \n",
    "            # Saliency\n",
    "            saliency_imp_node_list = []\n",
    "            for i in range(len(saliency_attr_node)):\n",
    "                if saliency_attr_node[i] > 0.5:\n",
    "                    saliency_imp_node_list.append(i)\n",
    "            if len(saliency_imp_node_list) > 0:\n",
    "                saliency_imp_node_dic[ntype] = saliency_imp_node_list\n",
    "                \n",
    "        except Exception:\n",
    "            pass\n",
    "        \n",
    "    return ig_imp_node_dic, saliency_imp_node_dic"
   ]
  },
  {
   "cell_type": "code",
   "execution_count": 86,
   "id": "65ccea3e-b31a-4f00-ae34-f636b4831e7e",
   "metadata": {},
   "outputs": [],
   "source": [
    "def get_imp_edge_dic(g_single_instance, g_neg_single_instance):   \n",
    "    ig_imp_edge_dic = {}\n",
    "    saliency_imp_edge_dic = {}\n",
    "    \n",
    "    for imp_etype in g_single_instance.canonical_etypes:\n",
    "        try:\n",
    "            ig_attr_edge, saliency_attr_edge = get_attr_edge(imp_etype[1], etype, g_single_instance.ndata['h'], g_single_instance, g_neg_single_instance, edge_weight, 0)\n",
    "            \n",
    "            # Integrated Gradients\n",
    "            ig_attr_edge = ig_attr_edge.clamp(min=0, max=1)\n",
    "            ig_imp_edge_list = []\n",
    "            for i in range(len(ig_attr_edge)):\n",
    "                if ig_attr_edge[i] > 0:\n",
    "                    ig_imp_edge_list.append(i)\n",
    "            if len(ig_imp_edge_list) > 0:\n",
    "                ig_imp_edge_dic[imp_etype[1]] = ig_imp_edge_list\n",
    "            \n",
    "            # Integrated Gradients\n",
    "            saliency_attr_edge = saliency_attr_edge.clamp(min=0, max=1)\n",
    "            saliency_imp_edge_list = []\n",
    "            for i in range(len(saliency_attr_edge)):\n",
    "                if saliency_attr_edge[i] > 0:\n",
    "                    saliency_imp_edge_list.append(i)\n",
    "            if len(saliency_imp_edge_list) > 0:\n",
    "                saliency_imp_edge_dic[imp_etype[1]] = saliency_imp_edge_list\n",
    "                \n",
    "        except Exception:\n",
    "            pass\n",
    "    return ig_imp_edge_dic, saliency_imp_edge_dic"
   ]
  },
  {
   "cell_type": "markdown",
   "id": "36429471-5b4e-4240-8f5a-65f8ed3ae553",
   "metadata": {},
   "source": [
    "**Get explain_y_hat - input: graph without unimportant nodes/edges**"
   ]
  },
  {
   "cell_type": "code",
   "execution_count": 87,
   "id": "e8429bf0-6dda-4b27-9c74-6788a88b4ce8",
   "metadata": {},
   "outputs": [],
   "source": [
    "def get_explain_y_hat(g_single_instance, imp_node_dic, u, v):\n",
    "    g_explain = g_single_instance\n",
    "\n",
    "    for ntype in g_single_instance.ntypes:\n",
    "        if ntype in list(imp_node_dic.keys()):\n",
    "            # keep influential nodes\n",
    "            nids = list(set(g_single_instance.nodes(ntype).detach().numpy()) - set(imp_node_dic[ntype]))\n",
    "            g_explain = dgl.remove_nodes(g_explain, nids=nids, ntype=ntype)\n",
    "\n",
    "        else:\n",
    "            nids = list(set(g_single_instance.nodes(ntype).detach().numpy()))\n",
    "            g_explain = dgl.remove_nodes(g_explain, nids=nids, ntype=ntype)\n",
    "\n",
    "    g_explain = dgl.add_edges(g_explain, u, v, etype=etype)\n",
    "    g_neg_explain = construct_negative_graph(g_explain, 5, etype)\n",
    "    return g_explain, model(g_explain, g_neg_explain, g_explain.ndata['h'], etype)[0][0].reshape([1, 1]).clamp(min=0, max=1)"
   ]
  },
  {
   "cell_type": "markdown",
   "id": "dda7e07f-91e5-4c2b-a4bc-e6662f105bec",
   "metadata": {},
   "source": [
    "**Get complement_y_hat - input: graph without important nodes/edges**"
   ]
  },
  {
   "cell_type": "code",
   "execution_count": 88,
   "id": "3c29840d-6940-4a0d-8236-848213ee5711",
   "metadata": {},
   "outputs": [],
   "source": [
    "def get_complement_y_hat(g_single_instance, imp_node_dic, u, v):   \n",
    "    g_complement = g_single_instance\n",
    "\n",
    "    for ntype in list(imp_node_dic.keys()):\n",
    "        # remove influential nodes\n",
    "        g_complement = dgl.remove_nodes(g_complement, nids=imp_node_dic[ntype], ntype=ntype)\n",
    "\n",
    "    g_complement = dgl.add_edges(g_complement, u, v, etype=etype)\n",
    "    g_neg_complement = construct_negative_graph(g_complement, 5, etype)\n",
    "    return g_complement, model(g_complement, g_neg_complement, g_complement.ndata['h'], etype)[0][0].reshape([1, 1]).clamp(min=0, max=1)"
   ]
  },
  {
   "cell_type": "markdown",
   "id": "74bf2ee0-8e63-4553-af4c-9070fbabe53d",
   "metadata": {},
   "source": [
    "**Collect results**"
   ]
  },
  {
   "cell_type": "code",
   "execution_count": null,
   "id": "89ac6e2b-d521-4a20-83cc-757412486150",
   "metadata": {},
   "outputs": [],
   "source": [
    "y_all = []\n",
    "explain_y_hat_ig = []\n",
    "explain_y_hat_saliency = []\n",
    "complement_y_hat_ig = []\n",
    "complement_y_hat_saliency = []\n",
    "\n",
    "for i in range(len(g.edges(etype=etype, form='eid'))):\n",
    "    print(i)\n",
    "    \n",
    "    g_single_instance, g_neg_single_instance, u, v = get_single_instance_graph(idx=i)\n",
    "\n",
    "    ig_imp_node_dic, saliency_imp_node_dic = get_imp_node_dic(g_single_instance, g_neg_single_instance)\n",
    "\n",
    "    y = model(g_single_instance, g_neg_single_instance, g_single_instance.ndata['h'], etype)[0][0].reshape([1, 1]).clamp(min=0, max=1)\n",
    "    y_all.append(y.item())\n",
    "    \n",
    "    _, ex_ig = get_explain_y_hat(g_single_instance, ig_imp_node_dic, u, v)\n",
    "    _, ex_saliency = get_explain_y_hat(g_single_instance, saliency_imp_node_dic, u, v)\n",
    "    explain_y_hat_ig.append(ex_ig.item())\n",
    "    explain_y_hat_saliency.append(ex_saliency.item())\n",
    "    \n",
    "    _, comp_ig = get_complement_y_hat(g_single_instance, ig_imp_node_dic, u, v)\n",
    "    _, comp_saliency = get_complement_y_hat(g_single_instance, saliency_imp_node_dic, u, v)\n",
    "    complement_y_hat_ig.append(comp_ig.item())\n",
    "    complement_y_hat_saliency.append(comp_saliency.item())"
   ]
  },
  {
   "cell_type": "markdown",
   "id": "1743f75c-ad00-47d6-b3b3-25276e8a50ad",
   "metadata": {},
   "source": [
    "**Fidelity**"
   ]
  },
  {
   "cell_type": "code",
   "execution_count": null,
   "id": "7788f013-b4c0-4e5b-bd64-cb3ab3effda7",
   "metadata": {},
   "outputs": [],
   "source": [
    "y_all = [1 if x >= 0.5 else 0 for x in y_all]\n",
    "explain_y_hat_ig = [1 if x >= 0.5 else 0 for x in explain_y_hat_ig]\n",
    "explain_y_hat_saliency = [1 if x >= 0.5 else 0 for x in explain_y_hat_saliency]\n",
    "complement_y_hat_ig = [1 if x >= 0.5 else 0 for x in complement_y_hat_ig]\n",
    "complement_y_hat_saliency = [1 if x >= 0.5 else 0 for x in complement_y_hat_saliency]"
   ]
  },
  {
   "cell_type": "markdown",
   "id": "f8a78ce8-7855-435d-b7dc-25ea67ef3384",
   "metadata": {},
   "source": [
    "***No assumption***"
   ]
  },
  {
   "cell_type": "code",
   "execution_count": null,
   "id": "5312f840-7409-40b2-9d08-f1d0a09729f5",
   "metadata": {},
   "outputs": [],
   "source": [
    "def get_fidelity_count(complement_y_hat_all, explain_y_hat_all):    \n",
    "    count_minus = 0\n",
    "    count_plus = 0\n",
    "\n",
    "    for i in range(len(y_all)):\n",
    "        if y_all[i] == complement_y_hat_all[i]:\n",
    "            count_plus += 1\n",
    "        elif y_all[i] == explain_y_hat_all[i]:\n",
    "            count_minus += 1\n",
    "    return count_minus, count_plus"
   ]
  },
  {
   "cell_type": "code",
   "execution_count": null,
   "id": "7bfb457a-475f-492e-908d-b74508f9b9ac",
   "metadata": {},
   "outputs": [],
   "source": [
    "count_minus, count_plus = get_fidelity_count(complement_y_hat_ig, explain_y_hat_ig)\n",
    "\n",
    "pos_fidelity = 1. - (count_plus/len(y_all))\n",
    "print(f'Fidelity+: {pos_fidelity:.4f}')\n",
    "neg_fidelity = 1. - (count_minus/len(y_all))\n",
    "print(f'Fidelity-: {neg_fidelity:.4f}')\n",
    "charac = characterization_score(pos_fidelity, neg_fidelity)\n",
    "print(f'Characerization score: {charac:.4f}')"
   ]
  },
  {
   "cell_type": "code",
   "execution_count": null,
   "id": "09fe3de6-75aa-4284-a2da-6daf5351d0c5",
   "metadata": {},
   "outputs": [],
   "source": [
    "count_minus, count_plus = get_fidelity_count(complement_y_hat_saliency, explain_y_hat_saliency)\n",
    "\n",
    "pos_fidelity = 1. - (count_plus/len(y_all))\n",
    "print(f'Fidelity+: {pos_fidelity:.4f}')\n",
    "neg_fidelity = 1. - (count_minus/len(y_all))\n",
    "print(f'Fidelity-: {neg_fidelity:.4f}')\n",
    "charac = characterization_score(pos_fidelity, neg_fidelity)\n",
    "print(f'Characerization score: {charac:.4f}')"
   ]
  },
  {
   "cell_type": "markdown",
   "id": "3e16ee13-e0ab-406c-b7a0-e4f615755891",
   "metadata": {},
   "source": [
    "***Assuming we consider only the cases for which y was correct***"
   ]
  },
  {
   "cell_type": "code",
   "execution_count": null,
   "id": "bf66d956-8c46-4f83-91e3-276594739393",
   "metadata": {},
   "outputs": [],
   "source": [
    "def get_fidelity_count_assumption(complement_y_hat_all, explain_y_hat_all):    \n",
    "    count = 0\n",
    "    count_minus = 0\n",
    "    count_plus = 0\n",
    "\n",
    "    for i in range(len(y_all)):\n",
    "        if y_all[i] == 1:\n",
    "            count += 1 \n",
    "            if y_all[i] == complement_y_hat_all[i]:\n",
    "                count_plus += 1\n",
    "            elif y_all[i] == explain_y_hat_all[i]:\n",
    "                count_minus += 1\n",
    "    return count, count_minus, count_plus"
   ]
  },
  {
   "cell_type": "code",
   "execution_count": null,
   "id": "48f28d71-01f2-4ec9-b621-e87a45fe1dbd",
   "metadata": {},
   "outputs": [],
   "source": [
    "count, count_minus, count_plus = get_fidelity_count_assumption(complement_y_hat_ig, explain_y_hat_ig)\n",
    "\n",
    "pos_fidelity = 1. - (count_plus/count)\n",
    "print(f'Fidelity+: {pos_fidelity:.4f}')\n",
    "neg_fidelity = 1. - (count_minus/count)\n",
    "print(f'Fidelity-: {neg_fidelity:.4f}')\n",
    "charac = characterization_score(pos_fidelity, neg_fidelity)\n",
    "print(f'Characerization score: {charac:.4f}')"
   ]
  },
  {
   "cell_type": "code",
   "execution_count": null,
   "id": "7eb82b81-cbe8-4f4e-aae2-a6975eb142e4",
   "metadata": {},
   "outputs": [],
   "source": [
    "count, count_minus, count_plus = get_fidelity_count_assumption(complement_y_hat_saliency, explain_y_hat_saliency)\n",
    "\n",
    "pos_fidelity = 1. - (count_plus/count)\n",
    "print(f'Fidelity+: {pos_fidelity:.4f}')\n",
    "neg_fidelity = 1. - (count_minus/count)\n",
    "print(f'Fidelity-: {neg_fidelity:.4f}')\n",
    "charac = characterization_score(pos_fidelity, neg_fidelity)\n",
    "print(f'Characerization score: {charac:.4f}')"
   ]
  },
  {
   "cell_type": "markdown",
   "id": "efba8523-94fd-433a-9389-55036d36a374",
   "metadata": {},
   "source": [
    "**Plot explanatory subgraph**"
   ]
  },
  {
   "cell_type": "code",
   "execution_count": 96,
   "id": "aedc4f64-930a-426a-92f5-917575af23b0",
   "metadata": {},
   "outputs": [],
   "source": [
    "g_single_instance, g_neg_single_instance, u, v = get_single_instance_graph(idx=3)"
   ]
  },
  {
   "cell_type": "raw",
   "id": "8ceadd4f-ffc2-434a-93d6-9a4ac37de060",
   "metadata": {},
   "source": [
    "edge_weight = {}\n",
    "for edgetype in g_single_instance.etypes:\n",
    "    edge_weight[edgetype] = torch.ones(g_single_instance.num_edges(edgetype)).requires_grad_(True)"
   ]
  },
  {
   "cell_type": "code",
   "execution_count": 97,
   "id": "b5d57842-23b3-4f6c-b29d-5d323c1f8866",
   "metadata": {},
   "outputs": [],
   "source": [
    "ig_imp_node_dic, saliency_imp_node_dic = get_imp_node_dic(g_single_instance, g_neg_single_instance)"
   ]
  },
  {
   "cell_type": "raw",
   "id": "02acb9a7-9ef9-4f74-b40a-ba823b5ddce7",
   "metadata": {},
   "source": [
    "ig_imp_edge_dic, saliency_imp_edge_dic = get_imp_edge_dic(g_single_instance, g_neg_single_instance)"
   ]
  },
  {
   "cell_type": "code",
   "execution_count": 98,
   "id": "c2f5187a-c011-479a-a0a0-a86f3c8eb79b",
   "metadata": {},
   "outputs": [
    {
     "name": "stdout",
     "output_type": "stream",
     "text": [
      "u: Compound::DB01043\n",
      "v: Disease::MESH:D000544\n"
     ]
    }
   ],
   "source": [
    "print(f'u: {list(entity_dictionary[etype[0]].keys())[u]}')\n",
    "print(f'v: {list(entity_dictionary[etype[2]].keys())[v]}')"
   ]
  },
  {
   "cell_type": "code",
   "execution_count": 99,
   "id": "00c8c093-588a-4e1f-9c8d-2afbe968e352",
   "metadata": {},
   "outputs": [],
   "source": [
    "g_explain = g_single_instance\n",
    "\n",
    "for ntype in g_single_instance.ntypes:\n",
    "    if ntype in list(saliency_imp_node_dic.keys()):\n",
    "        # keep influential nodes\n",
    "        nids = list(set(g_single_instance.nodes(ntype).detach().numpy()) - set(saliency_imp_node_dic[ntype]))\n",
    "        g_explain = dgl.remove_nodes(g_explain, nids=nids, ntype=ntype)\n",
    "\n",
    "    else:\n",
    "        nids = list(set(g_single_instance.nodes(ntype).detach().numpy()))\n",
    "        g_explain = dgl.remove_nodes(g_explain, nids=nids, ntype=ntype)"
   ]
  },
  {
   "cell_type": "raw",
   "id": "70a6920a-1765-4923-835c-f25f4e189bb8",
   "metadata": {},
   "source": [
    "for etype in g_single_instance.etypes:\n",
    "    if etype in list(saliency_imp_edge_dic.keys()):\n",
    "        # keep influential edges\n",
    "        eids = list(set(g_explain.edges(etype=etype, form='eid').detach().numpy()) - set(saliency_imp_edge_dic[etype]))\n",
    "        g_explain = dgl.remove_edges(g_explain, eids=eids, etype=etype)\n",
    "\n",
    "    else:\n",
    "        eids = list(set(g_explain.edges(etype=etype, form='eid').detach().numpy()))\n",
    "        g_explain = dgl.remove_edges(g_explain, eids=eids, etype=etype)"
   ]
  },
  {
   "cell_type": "code",
   "execution_count": 100,
   "id": "54d967b7-838b-4f0d-ab2d-6715641bb2e1",
   "metadata": {},
   "outputs": [
    {
     "name": "stdout",
     "output_type": "stream",
     "text": [
      "Anatomy:\n",
      "Anatomy::UBERON:0000178\n",
      "Anatomy::UBERON:0001235\n",
      "Anatomy::UBERON:0002107\n",
      "Anatomy::UBERON:0001911\n",
      "Anatomy::UBERON:0000007\n",
      "Anatomy::UBERON:0000948\n",
      "Anatomy::UBERON:0002369\n",
      "\n",
      "Compound:\n",
      "Compound::DB00773\n",
      "Compound::DB11429\n",
      "Compound::DB08881\n",
      "Compound::DB00982\n",
      "Compound::DB00515\n",
      "Compound::DB00136\n",
      "Compound::DB00970\n",
      "Compound::DB01169\n",
      "Compound::CHEBI:18186\n",
      "Compound::CHEBI:36976\n",
      "Compound::MESH:D009711\n",
      "Compound::MESH:C030852\n",
      "Compound::MESH:C100119\n",
      "\n",
      "Disease:\n",
      "Disease::MESH:D000544\n",
      "\n",
      "Gene:\n",
      "Gene::7157\n",
      "Gene::1499\n",
      "Gene::367\n",
      "Gene::60\n",
      "Gene::5594\n",
      "Gene::3562\n",
      "Gene::354\n",
      "Gene::83729\n",
      "Gene::7224\n",
      "Gene::2078\n",
      "Gene::1009\n",
      "Gene::502531\n",
      "Gene::10513\n",
      "Gene::829\n",
      "Gene::442361\n",
      "Gene::8341\n",
      "\n",
      "Pharmacologic Class:\n",
      "Pharmacologic Class::N0000020015\n",
      "Pharmacologic Class::N0000005934\n",
      "\n"
     ]
    }
   ],
   "source": [
    "imp_nodes = []\n",
    "imp_nodes.append(list(entity_dictionary[etype[0]].keys())[u])\n",
    "imp_nodes.append(list(entity_dictionary[etype[2]].keys())[v])\n",
    "for key in saliency_imp_node_dic.keys():\n",
    "    print(key + ':')\n",
    "    lst = saliency_imp_node_dic[key]\n",
    "    for x in lst:\n",
    "        print(list(entity_dictionary[key].keys())[x])\n",
    "        imp_nodes.append(list(entity_dictionary[key].keys())[x])\n",
    "    print()"
   ]
  },
  {
   "cell_type": "code",
   "execution_count": 163,
   "id": "2c4d91c3-06fc-4e36-afb2-e66eac858876",
   "metadata": {},
   "outputs": [],
   "source": [
    "df = pd.read_csv('Input/drkg.tsv', sep='\\t', header=None)\n",
    "df = df.dropna()\n",
    "\n",
    "df_explain = df[(df[0].isin(imp_nodes)) & (df[2].isin(imp_nodes))]\n",
    "df_explain = df_explain.append(df[(df[0] == list(entity_dictionary[etype[0]].keys())[u]) & (df[1] == \"DRUGBANK::treats::Compound:Disease\") & (df[2] == \"Disease::MESH:D000544\")])\n",
    "\n",
    "df_rel = pd.read_csv('Input/relation_glossary.tsv', sep='\\t')\n",
    "df_explain = df_explain.merge(df_rel[['Relation-name', 'Interaction-type']], right_on='Relation-name', left_on=df_explain[1])"
   ]
  },
  {
   "cell_type": "raw",
   "id": "8a3fb323-f617-40d8-97a1-64e5cc657d32",
   "metadata": {},
   "source": [
    "# Only consider Drug + Disease\n",
    "df_explain = df_explain[(df_explain[0].str.startswith('Compound') | df_explain[0].str.startswith('Disease')) & (df_explain[2].str.startswith('Compound') | df_explain[2].str.startswith('Disease'))]"
   ]
  },
  {
   "cell_type": "code",
   "execution_count": 165,
   "id": "9e74a8b6-f2cd-44d7-9921-5516cacef383",
   "metadata": {},
   "outputs": [
    {
     "data": {
      "text/plain": [
       "drug-drug interaction          15\n",
       "Compound treats the disease     2\n",
       "Name: Interaction-type, dtype: int64"
      ]
     },
     "execution_count": 165,
     "metadata": {},
     "output_type": "execute_result"
    }
   ],
   "source": [
    "df_explain['Interaction-type'].value_counts()[:10]"
   ]
  },
  {
   "cell_type": "code",
   "execution_count": 166,
   "id": "93660593-9590-4d15-aff1-989e05376355",
   "metadata": {},
   "outputs": [],
   "source": [
    "G = nx.from_pandas_edgelist(df_explain, 0, 2, edge_attr=True, create_using=nx.MultiDiGraph())"
   ]
  },
  {
   "cell_type": "code",
   "execution_count": 167,
   "id": "0313df8b-f692-42fa-a93b-d818eb91e4f0",
   "metadata": {},
   "outputs": [
    {
     "data": {
      "image/png": "[encoded data removed]",
      "text/plain": [
       "<Figure size 640x480 with 1 Axes>"
      ]
     },
     "metadata": {},
     "output_type": "display_data"
    }
   ],
   "source": [
    "import matplotlib.patches as mpatches\n",
    "color = ['orangered', 'lightgreen', 'darkorange', 'skyblue', 'lightcyan', 'darkviolet']\n",
    "label = ['Target Link', 'Anatomy', 'Compound', 'Disease', 'Gene', 'Pharmacologic Class']\n",
    "patches = [plt.plot([],[], marker=\"o\", ms=10, ls=\"\", mec=None, color=color[i], label=\"{:s}\".format(label[i]))[0] for i in range(len(label))]"
   ]
  },
  {
   "cell_type": "code",
   "execution_count": 168,
   "id": "1c0c0cee-567e-4a27-94fd-f9c15f0ff7cc",
   "metadata": {},
   "outputs": [],
   "source": [
    "labels = {}\n",
    "for node in G.nodes:\n",
    "    split = node.split('::')\n",
    "    labels[node] = split[len(split)-1]"
   ]
  },
  {
   "cell_type": "code",
   "execution_count": 169,
   "id": "92e29842-f4fb-40b7-8a19-a3f12d57cd13",
   "metadata": {},
   "outputs": [],
   "source": [
    "node_color = []\n",
    "for node in G:\n",
    "    if node == list(entity_dictionary[etype[0]].keys())[u] or node == list(entity_dictionary[etype[2]].keys())[v]:\n",
    "        node_color.append('orangered')\n",
    "    else:\n",
    "        if node.startswith('Anatomy'):\n",
    "            node_color.append('lightgreen')\n",
    "        elif node.startswith('Compound'):\n",
    "            node_color.append('darkorange')\n",
    "        elif node.startswith('Disease'):\n",
    "            node_color.append('skyblue')\n",
    "        elif node.startswith('Gene'):\n",
    "            node_color.append('lightcyan')\n",
    "        elif node.startswith('Pharmacologic'):\n",
    "            node_color.append('darkviolet')"
   ]
  },
  {
   "cell_type": "code",
   "execution_count": 180,
   "id": "ab8d5a78-6720-4507-902a-d566cdb7f4cb",
   "metadata": {},
   "outputs": [],
   "source": [
    "edge_labels = {}\n",
    "edge_label_target = {}\n",
    "for i, row in df_explain.iterrows():\n",
    "    split = row[1].split('::')\n",
    "    pair = (row[0], row[2])\n",
    "    \n",
    "    if row[0] == list(entity_dictionary[etype[0]].keys())[u] and row[2] == list(entity_dictionary[etype[2]].keys())[v]:\n",
    "        edge_label_target[pair] = row['Interaction-type']\n",
    "    else:\n",
    "        edge_labels[pair] = row['Interaction-type']"
   ]
  },
  {
   "cell_type": "code",
   "execution_count": 183,
   "id": "10fcb978-0b80-4b19-a848-aa0a0c3b3b58",
   "metadata": {},
   "outputs": [
    {
     "data": {
      "image/png": "[encoded data removed]",
      "text/plain": [
       "<Figure size 640x480 with 1 Axes>"
      ]
     },
     "metadata": {},
     "output_type": "display_data"
    }
   ],
   "source": [
    "plt.figure(figsize = (12, 12))\n",
    "pos = nx.spring_layout(G, k = 2.5)\n",
    "nx.draw(G, with_labels=True, node_color=node_color, node_size=3000, pos=pos, font_weight='bold', font_size=12, labels=labels)\n",
    "nx.draw_networkx_edge_labels(G, pos, edge_labels=edge_labels, font_color='black', font_size=12)\n",
    "nx.draw_networkx_edge_labels(G, pos, edge_labels=edge_label_target, font_color='orangered', font_size=12)\n",
    "plt.legend(handles=patches)\n",
    "plt.title(f'Explanatory Subgraph for ({list(entity_dictionary[etype[0]].keys())[u]}, treats, {list(entity_dictionary[etype[2]].keys())[v]})')\n",
    "plt.show()"
   ]
  }
 ],
 "metadata": {
  "kernelspec": {
   "display_name": "Python 3 (ipykernel)",
   "language": "python",
   "name": "python3"
  },
  "language_info": {
   "codemirror_mode": {
    "name": "ipython",
    "version": 3
   },
   "file_extension": ".py",
   "mimetype": "text/x-python",
   "name": "python",
   "nbconvert_exporter": "python",
   "pygments_lexer": "ipython3",
   "version": "3.8.16"
  }
 },
 "nbformat": 4,
 "nbformat_minor": 5
}
