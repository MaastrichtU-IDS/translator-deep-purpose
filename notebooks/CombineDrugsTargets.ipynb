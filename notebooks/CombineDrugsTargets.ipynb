{
 "cells": [
  {
   "cell_type": "code",
   "execution_count": 2,
   "id": "b9848ac0-4bfe-4ada-b095-f8a22ecef674",
   "metadata": {
    "tags": []
   },
   "outputs": [
    {
     "name": "stdout",
     "output_type": "stream",
     "text": [
      "Looking in indexes: https://pypi.org/simple, https://pypi.ngc.nvidia.com\n",
      "Collecting openpyxl\n",
      "  Downloading openpyxl-3.1.2-py2.py3-none-any.whl (249 kB)\n",
      "\u001b[2K     \u001b[90m━━━━━━━━━━━━━━━━━━━━━━━━━━━━━━━━━━━━━━\u001b[0m \u001b[32m250.0/250.0 kB\u001b[0m \u001b[31m17.8 MB/s\u001b[0m eta \u001b[36m0:00:00\u001b[0m\n",
      "\u001b[?25hCollecting et-xmlfile\n",
      "  Downloading et_xmlfile-1.1.0-py3-none-any.whl (4.7 kB)\n",
      "Installing collected packages: et-xmlfile, openpyxl\n",
      "Successfully installed et-xmlfile-1.1.0 openpyxl-3.1.2\n",
      "\u001b[33mWARNING: Running pip as the 'root' user can result in broken permissions and conflicting behaviour with the system package manager. It is recommended to use a virtual environment instead: https://pip.pypa.io/warnings/venv\u001b[0m\u001b[33m\n",
      "\u001b[0m\n",
      "\u001b[1m[\u001b[0m\u001b[34;49mnotice\u001b[0m\u001b[1;39;49m]\u001b[0m\u001b[39;49m A new release of pip is available: \u001b[0m\u001b[31;49m23.0.1\u001b[0m\u001b[39;49m -> \u001b[0m\u001b[32;49m23.2.1\u001b[0m\n",
      "\u001b[1m[\u001b[0m\u001b[34;49mnotice\u001b[0m\u001b[1;39;49m]\u001b[0m\u001b[39;49m To update, run: \u001b[0m\u001b[32;49mpython -m pip install --upgrade pip\u001b[0m\n",
      "Note: you may need to restart the kernel to use updated packages.\n"
     ]
    }
   ],
   "source": [
    "pip install openpyxl"
   ]
  },
  {
   "cell_type": "code",
   "execution_count": 5,
   "id": "59634e00-68ed-4a9b-a60c-530ecd013773",
   "metadata": {
    "tags": []
   },
   "outputs": [],
   "source": [
    "import pandas as pd\n",
    "\n",
    "# Read the drug Excel sheet into a DataFrame\n",
    "drug_df = pd.read_excel('./data/drugs_T2D.xlsx')\n",
    "\n",
    "# Read the target Excel sheet into a DataFrame\n",
    "target_df = pd.read_excel('./data/targets_T2D.xlsx')\n",
    "\n",
    "# Add a new constant column 'key' to both DataFrames\n",
    "drug_df['key'] = 1\n",
    "target_df['key'] = 1\n",
    "\n",
    "# Perform a Cartesian product to combine the two DataFrames\n",
    "combined_df = pd.merge(drug_df, target_df, on='key').drop('key', axis=1)\n",
    "\n",
    "# Drop duplicate columns, if any\n",
    "combined_df = combined_df.loc[:, ~combined_df.columns.duplicated()]\n",
    "\n",
    "# Save the combined DataFrame to a new Excel file\n",
    "combined_df.to_excel('./result/combined_dataset.xlsx', index=False)"
   ]
  },
  {
   "cell_type": "code",
   "execution_count": 6,
   "id": "d4742a46-1e1c-4d8c-a736-38c6deef458c",
   "metadata": {
    "tags": []
   },
   "outputs": [],
   "source": [
    "import pandas as pd\n",
    "import numpy as np\n",
    "\n",
    "# Read the combined_dataset.xlsx into a DataFrame\n",
    "combined_df = pd.read_excel('./result/combined_dataset.xlsx')\n",
    "\n",
    "# Remove the columns 'drugNameID' and 'targetNameID'\n",
    "combined_df.drop(['drugNameID', 'targetNameID'], axis=1, inplace=True)\n",
    "\n",
    "# Add a new column 'y' with random numerical values between 0 and 100\n",
    "combined_df['y'] = np.random.randint(0, 101, size=len(combined_df))\n",
    "\n",
    "# Save the updated DataFrame to a new Excel file\n",
    "combined_df.to_excel('./result/updated_combined_dataset.xlsx', index=False)"
   ]
  },
  {
   "cell_type": "code",
   "execution_count": 10,
   "id": "0bfdbf16-99de-41a2-a607-8ac05570852a",
   "metadata": {},
   "outputs": [],
   "source": [
    "# split drugNameID into two columns, drugName and drugID\n",
    "import pandas as pd\n",
    "\n",
    "# Read the drugs_T2D.xlsx into a DataFrame\n",
    "df = pd.read_excel('./data/drugs_T2D.xlsx')\n",
    "\n",
    "# Function to extract drugName and drugID from drugNameID\n",
    "def extract_drug_name_id(drug_name_id):\n",
    "    try:\n",
    "        drug_name, drug_id = drug_name_id.split(' (')\n",
    "        drug_id = drug_id.strip(')')\n",
    "        return drug_name, drug_id\n",
    "    except:\n",
    "        return pd.NA, pd.NA\n",
    "\n",
    "# Apply the extraction function to create new columns\n",
    "df[['drugName', 'drugID']] = df['drugNameID'].apply(lambda x: pd.Series(extract_drug_name_id(x)))\n",
    "\n",
    "# Drop the rows with missing drugName or drugID\n",
    "df = df.dropna(subset=['drugName', 'drugID'])\n",
    "\n",
    "# Drop the original 'drugNameID' column\n",
    "df.drop(['drugNameID'], axis=1, inplace=True)\n",
    "\n",
    "# Save the updated DataFrame to a new Excel file\n",
    "df.to_excel('./data/updated_drugs_T2D.xlsx', index=False)"
   ]
  },
  {
   "cell_type": "code",
   "execution_count": 12,
   "id": "e4ffb6ba-6734-4fd7-b753-846554bdf815",
   "metadata": {
    "tags": []
   },
   "outputs": [],
   "source": [
    "# take drugName and SMILES, convert .xlsx to .txt\n",
    "import pandas as pd\n",
    "\n",
    "# Read the drugs_T2D.xlsx into a DataFrame\n",
    "df = pd.read_excel('./data/updated_drugs_T2D.xlsx')\n",
    "\n",
    "# Save drugName and SMILES columns to a text file\n",
    "df[['drugName', 'SMILES']].to_csv('./data/repurposing_drugs_T2D.txt')"
   ]
  },
  {
   "cell_type": "markdown",
   "id": "d6fbde93-2ded-4f75-b2cf-276cd4feeadc",
   "metadata": {},
   "source": [
    "# Function to extract drugName and drugID from drugNameID\n",
    "def extract_drug_name_id(drug_name_id):\n",
    "    try:\n",
    "        drug_name, drug_id = drug_name_id.split(' (')\n",
    "        drug_id = drug_id.strip(')')\n",
    "        return drug_name, drug_id\n",
    "    except:\n",
    "        return pd.NA, pd.NA\n",
    "\n",
    "# Apply the extraction function to create new columns\n",
    "df[['drugName', 'drugID']] = df['drugNameID'].apply(lambda x: pd.Series(extract_drug_name_id(x)))\n",
    "\n",
    "# Drop the rows with missing drugName or drugID\n",
    "df = df.dropna(subset=['drugName', 'drugID'])\n",
    "\n",
    "# Drop the 'drugID' column as we only need drugName and SMILES\n",
    "df.drop(['drugID'], axis=1, inplace=True)"
   ]
  },
  {
   "cell_type": "code",
   "execution_count": 13,
   "id": "a6e43756-235f-431f-a9ec-07d36a3c71f2",
   "metadata": {
    "tags": []
   },
   "outputs": [
    {
     "ename": "FileNotFoundError",
     "evalue": "[Errno 2] No such file or directory: './data/sequences/Akt/PKB (Protein Kinase B) - P31749.txt'",
     "output_type": "error",
     "traceback": [
      "\u001b[0;31m---------------------------------------------------------------------------\u001b[0m",
      "\u001b[0;31mFileNotFoundError\u001b[0m                         Traceback (most recent call last)",
      "Cell \u001b[0;32mIn[13], line 22\u001b[0m\n\u001b[1;32m     20\u001b[0m sequence \u001b[38;5;241m=\u001b[39m row[\u001b[38;5;124m'\u001b[39m\u001b[38;5;124mSequence\u001b[39m\u001b[38;5;124m'\u001b[39m]\n\u001b[1;32m     21\u001b[0m target_name_id \u001b[38;5;241m=\u001b[39m row[\u001b[38;5;124m'\u001b[39m\u001b[38;5;124mtargetNameID\u001b[39m\u001b[38;5;124m'\u001b[39m]\n\u001b[0;32m---> 22\u001b[0m \u001b[43msave_sequence_to_txt\u001b[49m\u001b[43m(\u001b[49m\u001b[43msequence\u001b[49m\u001b[43m,\u001b[49m\u001b[43m \u001b[49m\u001b[43mtarget_name_id\u001b[49m\u001b[43m)\u001b[49m\n",
      "Cell \u001b[0;32mIn[13], line 15\u001b[0m, in \u001b[0;36msave_sequence_to_txt\u001b[0;34m(sequence, target_name_id)\u001b[0m\n\u001b[1;32m     13\u001b[0m \u001b[38;5;28;01mdef\u001b[39;00m \u001b[38;5;21msave_sequence_to_txt\u001b[39m(sequence, target_name_id):\n\u001b[1;32m     14\u001b[0m     file_path \u001b[38;5;241m=\u001b[39m os\u001b[38;5;241m.\u001b[39mpath\u001b[38;5;241m.\u001b[39mjoin(output_folder, \u001b[38;5;124mf\u001b[39m\u001b[38;5;124m'\u001b[39m\u001b[38;5;132;01m{\u001b[39;00mtarget_name_id\u001b[38;5;132;01m}\u001b[39;00m\u001b[38;5;124m.txt\u001b[39m\u001b[38;5;124m'\u001b[39m)\n\u001b[0;32m---> 15\u001b[0m     \u001b[38;5;28;01mwith\u001b[39;00m \u001b[38;5;28;43mopen\u001b[39;49m\u001b[43m(\u001b[49m\u001b[43mfile_path\u001b[49m\u001b[43m,\u001b[49m\u001b[43m \u001b[49m\u001b[38;5;124;43m'\u001b[39;49m\u001b[38;5;124;43mw\u001b[39;49m\u001b[38;5;124;43m'\u001b[39;49m\u001b[43m)\u001b[49m \u001b[38;5;28;01mas\u001b[39;00m f:\n\u001b[1;32m     16\u001b[0m         f\u001b[38;5;241m.\u001b[39mwrite(sequence)\n",
      "File \u001b[0;32m/usr/local/lib/python3.8/dist-packages/IPython/core/interactiveshell.py:282\u001b[0m, in \u001b[0;36m_modified_open\u001b[0;34m(file, *args, **kwargs)\u001b[0m\n\u001b[1;32m    275\u001b[0m \u001b[38;5;28;01mif\u001b[39;00m file \u001b[38;5;129;01min\u001b[39;00m {\u001b[38;5;241m0\u001b[39m, \u001b[38;5;241m1\u001b[39m, \u001b[38;5;241m2\u001b[39m}:\n\u001b[1;32m    276\u001b[0m     \u001b[38;5;28;01mraise\u001b[39;00m \u001b[38;5;167;01mValueError\u001b[39;00m(\n\u001b[1;32m    277\u001b[0m         \u001b[38;5;124mf\u001b[39m\u001b[38;5;124m\"\u001b[39m\u001b[38;5;124mIPython won\u001b[39m\u001b[38;5;124m'\u001b[39m\u001b[38;5;124mt let you open fd=\u001b[39m\u001b[38;5;132;01m{\u001b[39;00mfile\u001b[38;5;132;01m}\u001b[39;00m\u001b[38;5;124m by default \u001b[39m\u001b[38;5;124m\"\u001b[39m\n\u001b[1;32m    278\u001b[0m         \u001b[38;5;124m\"\u001b[39m\u001b[38;5;124mas it is likely to crash IPython. If you know what you are doing, \u001b[39m\u001b[38;5;124m\"\u001b[39m\n\u001b[1;32m    279\u001b[0m         \u001b[38;5;124m\"\u001b[39m\u001b[38;5;124myou can use builtins\u001b[39m\u001b[38;5;124m'\u001b[39m\u001b[38;5;124m open.\u001b[39m\u001b[38;5;124m\"\u001b[39m\n\u001b[1;32m    280\u001b[0m     )\n\u001b[0;32m--> 282\u001b[0m \u001b[38;5;28;01mreturn\u001b[39;00m \u001b[43mio_open\u001b[49m\u001b[43m(\u001b[49m\u001b[43mfile\u001b[49m\u001b[43m,\u001b[49m\u001b[43m \u001b[49m\u001b[38;5;241;43m*\u001b[39;49m\u001b[43margs\u001b[49m\u001b[43m,\u001b[49m\u001b[43m \u001b[49m\u001b[38;5;241;43m*\u001b[39;49m\u001b[38;5;241;43m*\u001b[39;49m\u001b[43mkwargs\u001b[49m\u001b[43m)\u001b[49m\n",
      "\u001b[0;31mFileNotFoundError\u001b[0m: [Errno 2] No such file or directory: './data/sequences/Akt/PKB (Protein Kinase B) - P31749.txt'"
     ]
    }
   ],
   "source": [
    "# save each target's Sequence to a separate .txt file, name it using its corresponding targetName. create a folder called \"sequence\" and save all the sequence .txt files\n",
    "import pandas as pd\n",
    "import os\n",
    "\n",
    "# Read the targets_T2D.xlsx into a DataFrame\n",
    "df = pd.read_excel('./data/targets_T2D.xlsx')\n",
    "\n",
    "# Create a directory to store the .txt files\n",
    "output_folder = './data/sequences'\n",
    "os.makedirs(output_folder, exist_ok=True)\n",
    "\n",
    "# Function to save Sequence to a .txt file\n",
    "def save_sequence_to_txt(sequence, target_name_id):\n",
    "    file_path = os.path.join(output_folder, f'{target_name_id}.txt')\n",
    "    with open(file_path, 'w') as f:\n",
    "        f.write(sequence)\n",
    "\n",
    "# Loop through the DataFrame and save each Sequence to a .txt file\n",
    "for index, row in df.iterrows():\n",
    "    sequence = row['Sequence']\n",
    "    target_name_id = row['targetNameID']\n",
    "    save_sequence_to_txt(sequence, target_name_id)"
   ]
  },
  {
   "cell_type": "code",
   "execution_count": null,
   "id": "0f5c2225-ae71-4ad9-8b29-f1ba74c4a97b",
   "metadata": {},
   "outputs": [],
   "source": []
  }
 ],
 "metadata": {
  "kernelspec": {
   "display_name": "Python 3 (ipykernel)",
   "language": "python",
   "name": "python3"
  },
  "language_info": {
   "codemirror_mode": {
    "name": "ipython",
    "version": 3
   },
   "file_extension": ".py",
   "mimetype": "text/x-python",
   "name": "python",
   "nbconvert_exporter": "python",
   "pygments_lexer": "ipython3",
   "version": "3.8.10"
  }
 },
 "nbformat": 4,
 "nbformat_minor": 5
}
