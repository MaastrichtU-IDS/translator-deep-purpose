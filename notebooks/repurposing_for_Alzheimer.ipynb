{
 "cells": [
  {
   "cell_type": "code",
   "execution_count": null,
   "id": "45986616-2133-436c-921b-8614ac4598af",
   "metadata": {},
   "outputs": [],
   "source": [
    "! pip install git+https://github.com/bp-kelley/descriptastorus\n",
    "! pip install DeepPurpose"
   ]
  },
  {
   "cell_type": "code",
   "execution_count": null,
   "id": "d236eda4-afac-4471-b30c-7b740d8e0518",
   "metadata": {},
   "outputs": [],
   "source": [
    "from DeepPurpose import oneliner\n",
    "from DeepPurpose import dataset"
   ]
  },
  {
   "cell_type": "markdown",
   "id": "07808f13-290c-4bf5-a86a-4b965dfc7b33",
   "metadata": {},
   "source": [
    "DeepPurpose does not support a load function specifically for Alzheimer's disease. However, DeepPurpose provides a function for loading a target sequence from a local file. The file must consist of a single line and the target name and target sequence must be separated by a space."
   ]
  },
  {
   "cell_type": "code",
   "execution_count": null,
   "id": "4153c642-7021-4f08-b467-e73b4565794c",
   "metadata": {},
   "outputs": [],
   "source": [
    "# Load the Alzheimer target proteins and keep them in array\n",
    "paths = [\n",
    "    './Data/Amyloid_beta_target_seq.txt',\n",
    "    './Data/Tau_target_seq.txt']\n",
    "\n",
    "targets, targets_name = [], []\n",
    "\n",
    "for path in paths:\n",
    "  target_seq, target_name = dataset.read_file_target_sequence(path)\n",
    "  targets.append(target_seq)\n",
    "  targets_name.append(target_name)"
   ]
  },
  {
   "cell_type": "code",
   "execution_count": null,
   "id": "77c31feb-d2e3-461d-b70d-b758b869de9f",
   "metadata": {},
   "outputs": [],
   "source": [
    "# Load antiviral drugs and repurpose for the target proteins\n",
    "antiviral_drugs, antiviral_drugs_name = dataset.load_antiviral_drugs(no_cid = True)\n",
    "\n",
    "for i in range(len(targets)):\n",
    "  oneliner.repurpose(targets[i], targets_name[i], antiviral_drugs, antiviral_drugs_name)"
   ]
  },
  {
   "cell_type": "code",
   "execution_count": null,
   "id": "1f03d474-2ae2-4698-b66f-b43d0eec56e3",
   "metadata": {},
   "outputs": [],
   "source": [
    "# Load user-defined drug library and repurpose for the target proteins\n",
    "x_drugs, x_drugs_name = dataset.read_file_repurposing_library('./Data/alzheimer_drugs_RepoDB.txt')\n",
    "\n",
    "for i in range(len(targets)):\n",
    "  oneliner.repurpose(targets[i], targets_name[i], x_drugs, x_drugs_name)"
   ]
  }
 ],
 "metadata": {
  "kernelspec": {
   "display_name": "Python 3 (ipykernel)",
   "language": "python",
   "name": "python3"
  },
  "language_info": {
   "codemirror_mode": {
    "name": "ipython",
    "version": 3
   },
   "file_extension": ".py",
   "mimetype": "text/x-python",
   "name": "python",
   "nbconvert_exporter": "python",
   "pygments_lexer": "ipython3",
   "version": "3.8.10"
  }
 },
 "nbformat": 4,
 "nbformat_minor": 5
}
