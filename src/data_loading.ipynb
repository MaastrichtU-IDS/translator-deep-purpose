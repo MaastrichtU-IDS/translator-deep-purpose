{
 "cells": [
  {
   "cell_type": "code",
   "execution_count": null,
   "id": "823d535d-fc81-4680-a339-5124a064aeaf",
   "metadata": {},
   "outputs": [],
   "source": [
    "! conda create -n DeepPurpose python=3.6\n",
    "! conda activate DeepPurpose\n",
    "! conda install -c conda-forge rdkit\n",
    "! conda install -c conda-forge notebook\n",
    "! pip install git+https://github.com/bp-kelley/descriptastorus\n",
    "! pip install DeepPurpose"
   ]
  },
  {
   "cell_type": "code",
   "execution_count": null,
   "id": "9752160d-f6db-48ca-aae5-535bdab11edf",
   "metadata": {},
   "outputs": [],
   "source": [
    "from DeepPurpose import utils, DTI, dataset"
   ]
  },
  {
   "cell_type": "markdown",
   "id": "9c8561bd-cbc1-4eb1-9efd-2aed7949536a",
   "metadata": {},
   "source": [
    "There are mainly three types of input data for DeepPurpose.\n",
    "\n",
    "Target Sequence and its name to be repurposed\n",
    "Drug repurposing library (antiviral drugs library and broad repurposing library)\n",
    "Training drug-target pairs, along with the binding scores"
   ]
  },
  {
   "cell_type": "markdown",
   "id": "cec6ba6f-74f1-4342-a451-5993eee28915",
   "metadata": {},
   "source": [
    "start with the first one target sequence and its name to be repurposed."
   ]
  },
  {
   "cell_type": "code",
   "execution_count": null,
   "id": "c0443921-368a-403f-a8a8-0a737787b3c5",
   "metadata": {},
   "outputs": [],
   "source": [
    "target, target_name = dataset.load_SARS_CoV_Protease_3CL()"
   ]
  },
  {
   "cell_type": "code",
   "execution_count": null,
   "id": "bcc5f3a4-d20e-406f-a744-6eb6469e9af9",
   "metadata": {},
   "outputs": [],
   "source": [
    "target, target_name = dataset.read_file_target_sequence('./toy_data/RNA_polymerase_SARS_CoV2_target_seq.txt')"
   ]
  },
  {
   "cell_type": "markdown",
   "id": "a8a7782b-5e38-4497-8b1b-33630e09a4b2",
   "metadata": {},
   "source": [
    "move on to drug repurposing library. DeepPurpose currently support an antiviral drugs library and the broad repurposing library. X_repurpose is the drug SMILES."
   ]
  },
  {
   "cell_type": "code",
   "execution_count": null,
   "id": "9f368948-fa3e-48a6-b510-61ac8b0a0331",
   "metadata": {},
   "outputs": [],
   "source": [
    "X_repurpose, Drug_Names, Drug_CIDs = dataset.load_antiviral_drugs()"
   ]
  },
  {
   "cell_type": "code",
   "execution_count": null,
   "id": "0598f92a-3e06-4bc4-a93e-31dea4d72ee6",
   "metadata": {},
   "outputs": [],
   "source": [
    "X_drug, Drug_Names, Drug_CIDs = dataset.load_broad_repurposing_hub()"
   ]
  },
  {
   "cell_type": "code",
   "execution_count": null,
   "id": "f38300f6-3a6f-4603-a2f2-8c232f69d6c0",
   "metadata": {},
   "outputs": [],
   "source": [
    "X_drug, Drug_Names = dataset.read_file_repurposing_library('./toy_data/repurposing_data_examples.txt')"
   ]
  },
  {
   "cell_type": "markdown",
   "id": "e2379a9e-1ce8-4e83-b5d8-3af377baf8e1",
   "metadata": {},
   "source": [
    "move to the final training dataset! There are two types of training dataset that DeepPurpose expects.\n",
    "\n",
    "1. The drug-target pairs with the binding score or the interaction 1/0 label.\n",
    "2. The bioassay data where there is only one target and many drugs are screened."
   ]
  },
  {
   "cell_type": "markdown",
   "id": "b32f4dd8-63ce-46f1-af6f-953bf29b3bbc",
   "metadata": {},
   "source": [
    "For the first one, three data loaders are provided for public available drug-target interaction datasets: KIBA, DAVIS, and BindingDB."
   ]
  },
  {
   "cell_type": "code",
   "execution_count": null,
   "id": "bd7ee561-b0dc-4a40-8b16-e9e1385611a4",
   "metadata": {},
   "outputs": [],
   "source": [
    "# DAVIS\n",
    "X_drugs, X_targets, y = dataset.load_process_DAVIS(path = './data', binary = False, convert_to_log = True, threshold = 30)"
   ]
  },
  {
   "cell_type": "code",
   "execution_count": null,
   "id": "d61d4dba-6581-4cb7-9133-ddf603502a75",
   "metadata": {},
   "outputs": [],
   "source": [
    "# KIBA\n",
    "X_drugs, X_targets, y = dataset.load_process_KIBA(path = './data', binary = False, threshold = 9)"
   ]
  },
  {
   "cell_type": "code",
   "execution_count": null,
   "id": "1c215f98-f79c-437c-a622-7dbbf3e0f919",
   "metadata": {},
   "outputs": [],
   "source": [
    "# BindingDB\n",
    "data_path = dataset.download_BindingDB('./data/')\n",
    "X_drugs, X_targets, y = dataset.process_BindingDB(path = data_path, df = None, y = 'Kd', binary = False, convert_to_log = True, threshold = 30)"
   ]
  },
  {
   "cell_type": "markdown",
   "id": "95130a10-d374-46cd-a772-023041d65621",
   "metadata": {},
   "source": [
    "For the second one, only AID1706 bioassay loader is available for now. But please check the source code since it is easy to produce another one."
   ]
  },
  {
   "cell_type": "code",
   "execution_count": null,
   "id": "e199cf70-2ae4-4f57-90d8-4965a9380e19",
   "metadata": {},
   "outputs": [],
   "source": [
    "X_drugs, X_targets, y = dataset.load_AID1706_SARS_CoV_3CL(path = './data', binary = True, threshold = 15, balanced = True, oversample_num = 30, seed = 1)"
   ]
  },
  {
   "cell_type": "code",
   "execution_count": null,
   "id": "8cb68894-ed63-4a34-bea3-7b493b8d1804",
   "metadata": {},
   "outputs": [],
   "source": [
    "X_drugs, X_targets, y = dataset.read_file_training_dataset_bioassay('./toy_data/AID1706.txt')"
   ]
  }
 ],
 "metadata": {
  "kernelspec": {
   "display_name": "Python 3 (ipykernel)",
   "language": "python",
   "name": "python3"
  },
  "language_info": {
   "codemirror_mode": {
    "name": "ipython",
    "version": 3
   },
   "file_extension": ".py",
   "mimetype": "text/x-python",
   "name": "python",
   "nbconvert_exporter": "python",
   "pygments_lexer": "ipython3",
   "version": "3.8.10"
  }
 },
 "nbformat": 4,
 "nbformat_minor": 5
}
