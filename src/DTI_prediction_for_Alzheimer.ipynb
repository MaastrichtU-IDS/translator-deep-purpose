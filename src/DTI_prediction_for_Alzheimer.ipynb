{
 "cells": [
  {
   "cell_type": "code",
   "execution_count": null,
   "id": "d2840ca6-8f38-44e8-bfd0-866a936cce42",
   "metadata": {},
   "outputs": [],
   "source": [
    "pip install git+https://github.com/bp-kelley/descriptastorus\n",
    "pip install DeepPurpose"
   ]
  },
  {
   "cell_type": "code",
   "execution_count": 18,
   "id": "6f204836-a7d6-45d1-95cf-d7802f961e03",
   "metadata": {
    "tags": []
   },
   "outputs": [],
   "source": [
    "from DeepPurpose import utils, dataset\n",
    "from DeepPurpose import DTI as models\n",
    "import warnings\n",
    "warnings.filterwarnings(\"ignore\")"
   ]
  },
  {
   "cell_type": "markdown",
   "id": "6148ce0e-5d34-4d02-ad64-0eac8cd39cde",
   "metadata": {},
   "source": [
    "**BindingDB**\n",
    "* A comprehensive and widely used database of small-molecule binding data to protein targets\n",
    "* Contains experimentally measured binding affinities (such as IC50, Ki, Kd) for small molecules interacting with target proteins\n",
    "* Covers a broad range of targets, including enzymes, receptors, and transporters\n",
    "* Diverse, including info from various sources and experimental methods\n",
    "* More focused on the binding affinities of small molecules to proteins, making it suitable for regression-based DTI prediction tasks"
   ]
  },
  {
   "cell_type": "markdown",
   "id": "480f40a4-af2c-40cf-82b9-37a48f3b2dfe",
   "metadata": {},
   "source": [
    "**DAVIS (Drug Affinity Responsive Target Stability)**\n",
    "* Specifically designed for drug-target interaction prediction\n",
    "* Includes binding affinities and binary labels (active/inactive) for drug-target pairs\n",
    "* Data is generated through a combination of virtual screening, experimental validation, and affinity measurements\n",
    "* Primarily focuses on the stability of drug-target interactions and includes information about target responses to ligand binding\n",
    "* More suitable for binary classification-based DTI prediction tasks, where the goal is to predict whether a drug and target interact or not"
   ]
  },
  {
   "cell_type": "markdown",
   "id": "d95103b5-9172-45ea-ae37-7c7c53b0e4a4",
   "metadata": {},
   "source": [
    "**KIBA (Kinase Inhibitor Bioactivity)**\n",
    "* A specialized DS focuses on the interactions between kinase inhibitors and protein kinases\n",
    "* Includes kinase inhibitor bioactivity measurements (binding affinities) and targets associated with specific inhibitors\n",
    "* Designed to facilitate the prediction of kinase inhibitor bioactivity and kinase-specific interactions\n",
    "* Particularly useful for predicting drug-target interactions involving protein kinases, which play essential roles in cell signaling and are targets for various diseases, including cancer"
   ]
  },
  {
   "cell_type": "code",
   "execution_count": 47,
   "id": "c10e4bcf-1a04-40d7-b9ce-0d3d964f8123",
   "metadata": {
    "tags": []
   },
   "outputs": [
    {
     "name": "stdout",
     "output_type": "stream",
     "text": [
      "Downloading finished... Beginning to extract zip file...\n",
      "pretrained model Successfully Downloaded...\n"
     ]
    }
   ],
   "source": [
    "# pretrained models on BindingDB\n",
    "# model = models.model_pretrained(model = 'MPNN_CNN_BindingDB') # predicted score is [4.65383243560791]\n",
    "# model = models.model_pretrained(model = 'CNN_CNN_BindingDB_IC50') # predicted score is [5.397450923919678]\n",
    "# model = models.model_pretrained(model = 'Morgan_CNN_BindingDB_IC50') # predicted score is [5.273427486419678]\n",
    "# model = models.model_pretrained(model = 'Morgan_AAC_BindingDB_IC50') # predicted score is [5.152268409729004]\n",
    "# model = models.model_pretrained(model = 'MPNN_CNN_BindingDB_IC50') # predicted score is [6.513026237487793]\n",
    "# model = models.model_pretrained(model = 'Daylight_AAC_BindingDB_IC50') # predicted score is [5.836477756500244]\n",
    "# model = models.model_pretrained(model = 'CNN_CNN_BindingDB') # predicted score is [4.437524795532227]\n",
    "# model = models.model_pretrained(model = 'Morgan_CNN_BindingDB') # predicted score is [6.2451276779174805]\n",
    "# model = models.model_pretrained(model = 'Transformer_CNN_BindingDB') # predicted score is [4.726782321929932]\n",
    "# model = models.model_pretrained(model = 'Daylight_AAC_BindingDB') # predicted score is [7.82790994644165]\n",
    "# model = models.model_pretrained(model = 'Morgan_AAC_BindingDB') # predicted score is [5.4454569816589355]\n",
    "\n",
    "# pretrained models on DAVIS\n",
    "# model = models.model_pretrained(model = 'MPNN_CNN_DAVIS') # predicted score is [5.951980113983154]\n",
    "# model = models.model_pretrained(model = 'CNN_CNN_DAVIS') # predicted score is [5.034719467163086]\n",
    "# model = models.model_pretrained(model = 'Morgan_CNN_DAVIS') # predicted score is [5.045121669769287]\n",
    "# model = models.model_pretrained(model = 'Daylight_AAC_DAVIS') # predicted score is [5.31003999710083]\n",
    "# model = models.model_pretrained(model = 'Morgan_AAC_DAVIS') # predicted score is [5.102268218994141]\n",
    "\n",
    "# pretrained models on KIBA\n",
    "# model = models.model_pretrained(model = 'Morgan_CNN_KIBA') # predicted score is [5.102268218994141]\n",
    "# model = models.model_pretrained(model = 'MPNN_CNN_KIBA') # predicted score is [11.170574188232422]\n",
    "# model = models.model_pretrained(model = 'Daylight_AAC_KIBA') # predicted score is [11.25594711303711]\n",
    "model = models.model_pretrained(model = 'Morgan_AAC_KIBA') # predicted score is [11.629722595214844]\n"
   ]
  },
  {
   "cell_type": "markdown",
   "id": "92a05773-7b88-4bf7-ad20-cd639c170fc1",
   "metadata": {},
   "source": [
    "Drug ipidacrine for Alzheimer target Amyloid beta"
   ]
  },
  {
   "cell_type": "markdown",
   "id": "d00709e0-2579-44c4-a402-1f02ef116e31",
   "metadata": {},
   "source": [
    "**Note that for DTI models, the BindingDB and DAVIS are trained on log scale.**"
   ]
  },
  {
   "cell_type": "code",
   "execution_count": 48,
   "id": "d85f0d02-1a50-4312-ad89-40c3ac0c513d",
   "metadata": {
    "tags": []
   },
   "outputs": [
    {
     "name": "stdout",
     "output_type": "stream",
     "text": [
      "Drug Target Interaction Prediction Mode...\n",
      "in total: 1 drug-target pairs\n",
      "encoding drug...\n",
      "unique drugs: 1\n",
      "encoding protein...\n",
      "unique target sequence: 1\n",
      "-- Encoding AAC takes time. Time Reference: 24s for ~100 sequences in a CPU.\t\t\t\t Calculate your time by the unique target sequence #, instead of the entire dataset.\n",
      "splitting dataset...\n",
      "do not do train/test split on the data for already splitted data\n",
      "predicting...\n",
      "The predicted score is [11.629722595214844]\n"
     ]
    }
   ],
   "source": [
    "drug_encoding, target_encoding = 'Morgan', 'AAC' #'MPNN', 'CNN'\n",
    "\n",
    "X_drug = ['NC1=C2CCCC2=NC2=C1CCCC2']                    # ipidacrine\n",
    "X_target = ['DAEFRHESGYEVHHQKLVFFAEDVGSNKGAIIGLMVGGVV'] # Amyloid\n",
    "y = [0] # numerical value is needed for y, but the value itself won't affect the predicted score... \n",
    "X_pred = utils.data_process(X_drug, X_target, y,\n",
    "                                drug_encoding, target_encoding,\n",
    "                                split_method='no_split')\n",
    "y_pred = model.predict(X_pred)\n",
    "print('The predicted score is ' + str(y_pred))"
   ]
  },
  {
   "cell_type": "code",
   "execution_count": null,
   "id": "a7edce71-524a-4fd9-b9d1-edc84880287c",
   "metadata": {},
   "outputs": [],
   "source": []
  }
 ],
 "metadata": {
  "kernelspec": {
   "display_name": "Python 3 (ipykernel)",
   "language": "python",
   "name": "python3"
  },
  "language_info": {
   "codemirror_mode": {
    "name": "ipython",
    "version": 3
   },
   "file_extension": ".py",
   "mimetype": "text/x-python",
   "name": "python",
   "nbconvert_exporter": "python",
   "pygments_lexer": "ipython3",
   "version": "3.8.10"
  }
 },
 "nbformat": 4,
 "nbformat_minor": 5
}
